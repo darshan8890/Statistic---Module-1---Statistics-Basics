{
  "nbformat": 4,
  "nbformat_minor": 0,
  "metadata": {
    "colab": {
      "provenance": []
    },
    "kernelspec": {
      "name": "python3",
      "display_name": "Python 3"
    },
    "language_info": {
      "name": "python"
    }
  },
  "cells": [
    {
      "cell_type": "markdown",
      "source": [
        "# **Assignment - Statistic Basic**"
      ],
      "metadata": {
        "id": "RhkSD-TJyb8F"
      }
    },
    {
      "cell_type": "markdown",
      "source": [
        "Q1. Explain the different types of data (qualitative and quantitative) and provide examples of each. Discuss nominal, ordinal, interval, and ratio scales.\n",
        "\n",
        "- Qualitative Data = This type of data describes characteristics or attributes that cannot be measured numerically. It is non-numeric and is usually grouped into categories.\n",
        "\n",
        "Examples:\n",
        "Colors of cars (Red, Blue, Black),\n",
        "Types of animals (Dog, Cat, Bird),\n",
        "Gender (Male, Female, Other),\n",
        "Nationality (Indian, American, French).\n",
        "\n",
        "- Quantitative Data = This type of data represents measurable quantities and can be expressed in numbers. Examples:\n",
        "Height of a person (in cm),\n",
        "Temperature of a city (in °C or °F),\n",
        "Age of students (in years),\n",
        "Marks obtained in a test (out of 100).\n",
        "\n",
        "- Nominal Scale = The nominal scale is the simplest level of measurement.\n",
        "Data is classified into categories that have no specific order or ranking.\n",
        "It is used for labeling or categorization. Mathematical operations like addition or subtraction are not possible.\n",
        "- Ordinal Scale = The ordinal scale represents data in a specific order or ranking. However, the differences between values are not measurable or meaningful. It only tells us the relative position of data but not the exact difference.\n",
        "- Interval Scale = The interval scale is a numerical scale where the difference between values is meaningful and equal. However, there is no true zero, meaning zero does not indicate the absence of the quantity. Addition and subtraction are possible, but ratios (multiplication & division) are not meaningful.\n",
        "- Ratio Scale =\n",
        "The ratio scale is the highest level of measurement.\n",
        "It is numerical and has a true zero, meaning zero represents the absence of the quantity. All mathematical operations (addition, subtraction, multiplication, and division) are possible. Ratios are meaningful (e.g., 20 kg is twice as heavy as 10 kg)."
      ],
      "metadata": {
        "id": "prMuVAPMyqaM"
      }
    },
    {
      "cell_type": "markdown",
      "source": [
        "Q2. What are the measures of central tendency, and when should you use each? Discuss the mean, median, and mode with examples and situations where each is appropriate.\n",
        "\n",
        "- Measures of central tendency help summarize a dataset by identifying a single value that represents the middle or central point of the data. The three main measures are: Mean (Average), Median (Middle Value), Mode (Most Frequent Value)\n",
        "Each measure is useful in different situations depending on the nature of the data and the presence of outliers (extreme values).\n",
        "- Mean (Average) = The mean is the sum of all values divided by the number of values in the dataset.\n",
        "- Median (Middle Value) = The median is the middle value when data is arranged in ascending order. If the dataset has an odd number of values, the median is the middle value. If the dataset has an even number of values, the median is the average of the two middle values.\n",
        "- Mode (Most Frequent Value) = The mode is the value that appears most frequently in the dataset. A dataset can have multiple modes (bimodal, multimodal) or no mode at all."
      ],
      "metadata": {
        "id": "G77dtarZzxKB"
      }
    },
    {
      "cell_type": "markdown",
      "source": [
        "Q3. Explain the concept of dispersion. How do variance and standard deviation measure the spread of data?\n",
        "\n",
        "- Dispersion refers to the spread or variability of a dataset. It tells us how much the data points differ from the central value (mean, median, or mode). A dataset with low dispersion has values that are closely clustered around the central value, while a dataset with high dispersion has values that are widely spread out.\n",
        "\n",
        "- Variance = Variance measures how far each data point is from the mean. It calculates the average squared difference between each data point and the mean.\n",
        "- Standard Deviation = Standard deviation is the square root of variance, which brings the measure back to the original unit of the data.\n",
        ""
      ],
      "metadata": {
        "id": "OI0XO8A30tdV"
      }
    },
    {
      "cell_type": "markdown",
      "source": [
        "Q4. What is a box plot, and what can it tell you about the distribution of data?\n",
        "- A box plot, also called a box-and-whisker plot, is a graphical representation of the distribution of a dataset. It shows key summary statistics and helps identify skewness, variability, and outliers.\n",
        "\n",
        "\n"
      ],
      "metadata": {
        "id": "_xhwpay01F_B"
      }
    },
    {
      "cell_type": "markdown",
      "source": [
        "Q5. Discuss the role of random sampling in making inferences about populations.\n",
        "- Random sampling is a technique where each member of a population has an equal chance of being selected for a sample. It ensures that the sample fairly represents the population, allowing researchers to make accurate inferences about the entire group.\n"
      ],
      "metadata": {
        "id": "hjPbIyg-1c0K"
      }
    },
    {
      "cell_type": "markdown",
      "source": [
        "Q6. Explain the concept of skewness and its types. How does skewness affect the interpretation of data?\n",
        "\n",
        "- Skewness is a measure of the asymmetry of a dataset's distribution. It indicates whether data values are symmetrically distributed around the mean or if they are skewed (shifted) to one side. A symmetric distribution has zero skewness. A skewed distribution has data values that are not evenly distributed around the center."
      ],
      "metadata": {
        "id": "ggG2V4if18R7"
      }
    },
    {
      "cell_type": "markdown",
      "source": [
        "Q7. What is the interquartile range (IQR), and how is it used to detect outliers?\n",
        "\n",
        "- The Interquartile Range (IQR) is a measure of statistical dispersion that describes the spread of the middle 50% of a dataset. It is calculated as:\n",
        "IQR=Q3−Q1"
      ],
      "metadata": {
        "id": "5cd50GhI2GRR"
      }
    },
    {
      "cell_type": "markdown",
      "source": [
        "Q8. Discuss the conditions under which the binomial distribution is used.\n",
        "- The binomial distribution is a discrete probability distribution that models the number of successes in a fixed number of independent trials, each with the same probability of success. It is used when an experiment meets the following four conditions: Fixed Number of Trials (n), Only Two Possible Outcomes (Success or Failure), Constant Probability of Success, Independent Trials.\n",
        "\n"
      ],
      "metadata": {
        "id": "23AaVO5O2VAR"
      }
    },
    {
      "cell_type": "markdown",
      "source": [
        "Q9. Explain the properties of the normal distribution and the empirical rule (68-95-99.7 rule).\n",
        "- The normal distribution, also known as the Gaussian distribution, is a continuous probability distribution that is symmetrical around the mean. It is one of the most important distributions in statistics.\n",
        "- Many natural and social phenomena follow a normal distribution, such as heights, test scores, and IQ levels. Central Limit Theorem states that sample means tend to be normal, even if the population is not. Used in probability and hypothesis testing, such as z-scores and confidence intervals.\n",
        "\n"
      ],
      "metadata": {
        "id": "Iq8ZU08F2wov"
      }
    },
    {
      "cell_type": "markdown",
      "source": [
        "Q10. Provide a real-life example of a Poisson process and calculate the probability for a specific event.\n",
        "- A Poisson process is a statistical model used to describe events that occur randomly and independently over a fixed interval of time or space. It is used when the events are rare, infrequent, and independent of each other. The Poisson distribution is particularly useful for modeling the number of events occurring in a given time period when these events are not predictable."
      ],
      "metadata": {
        "id": "sylwEQTa3Af4"
      }
    },
    {
      "cell_type": "markdown",
      "source": [
        "Q11. Explain what a random variable is and differentiate between discrete and continuous random variables.\n",
        "\n",
        "- A random variable is a numerical outcome of a random experiment or process. It is a variable whose value is subject to the outcomes of a random event, and it can be discrete or continuous depending on the type of data it represents. A random variable is typically denoted by X or Y and can take on various possible values. The probability distribution of a random variable describes how probabilities are assigned to different values of the variable."
      ],
      "metadata": {
        "id": "2HfdL4lx3hJc"
      }
    },
    {
      "cell_type": "markdown",
      "source": [
        "Q12. Provide an example dataset, calculate both covariance and correlation, and interpret the results.\n",
        "- Covariance measures the degree to which two variables change together. A positive covariance indicates that the variables tend to increase together, while a negative covariance suggests that one variable tends to increase when the other decreases.\n",
        "- Correlation is a standardized version of covariance. It is always between -1 and 1. A correlation of 1 means the variables have a perfect positive linear relationship, -1 indicates a perfect negative linear relationship, and 0 indicates no linear relationship."
      ],
      "metadata": {
        "id": "djGPqBhS3tPG"
      }
    },
    {
      "cell_type": "markdown",
      "source": [
        "# **Thank You Sir/Ma'am**\n",
        "**Yours sincerely,\n",
        "Darshan Panchal**"
      ],
      "metadata": {
        "id": "mFl0NUjm39lD"
      }
    }
  ]
}